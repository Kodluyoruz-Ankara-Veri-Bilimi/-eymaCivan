{
 "cells": [
  {
   "cell_type": "code",
   "execution_count": 88,
   "metadata": {},
   "outputs": [],
   "source": [
    "import numpy as np\n",
    "import pandas as pd \n",
    "import statsmodels.api as sm\n",
    "import statsmodels.formula.api as smf\n",
    "import seaborn as sns\n",
    "from sklearn.preprocessing import scale \n",
    "from sklearn.model_selection import train_test_split, GridSearchCV, cross_val_score\n",
    "from sklearn.metrics import confusion_matrix, accuracy_score, classification_report\n",
    "from sklearn.metrics import roc_auc_score,roc_curve\n",
    "import statsmodels.formula.api as smf\n",
    "import matplotlib.pyplot as plt\n",
    "from sklearn.neighbors import KNeighborsClassifier\n",
    "from sklearn.discriminant_analysis import LinearDiscriminantAnalysis\n",
    "from sklearn.linear_model import LogisticRegression\n",
    "from sklearn.svm import SVC\n",
    "from sklearn.naive_bayes import GaussianNB\n",
    "from sklearn import tree\n",
    "from sklearn.ensemble import RandomForestClassifier\n",
    "from sklearn.ensemble import GradientBoostingClassifier\n",
    "from sklearn import tree\n"
   ]
  },
  {
   "cell_type": "code",
   "execution_count": 89,
   "metadata": {},
   "outputs": [],
   "source": [
    "data = pd.read_csv(\"hmelq.csv\")\n",
    "df = data.copy()"
   ]
  },
  {
   "cell_type": "code",
   "execution_count": 90,
   "metadata": {},
   "outputs": [
    {
     "data": {
      "text/html": [
       "<div>\n",
       "<style scoped>\n",
       "    .dataframe tbody tr th:only-of-type {\n",
       "        vertical-align: middle;\n",
       "    }\n",
       "\n",
       "    .dataframe tbody tr th {\n",
       "        vertical-align: top;\n",
       "    }\n",
       "\n",
       "    .dataframe thead th {\n",
       "        text-align: right;\n",
       "    }\n",
       "</style>\n",
       "<table border=\"1\" class=\"dataframe\">\n",
       "  <thead>\n",
       "    <tr style=\"text-align: right;\">\n",
       "      <th></th>\n",
       "      <th>bad</th>\n",
       "      <th>loan</th>\n",
       "      <th>mortdue</th>\n",
       "      <th>value</th>\n",
       "      <th>reason</th>\n",
       "      <th>job</th>\n",
       "      <th>yoj</th>\n",
       "      <th>derog</th>\n",
       "      <th>delinq</th>\n",
       "      <th>clage</th>\n",
       "      <th>ninq</th>\n",
       "      <th>clno</th>\n",
       "      <th>debtinc</th>\n",
       "    </tr>\n",
       "  </thead>\n",
       "  <tbody>\n",
       "    <tr>\n",
       "      <th>0</th>\n",
       "      <td>0</td>\n",
       "      <td>81200</td>\n",
       "      <td>18834.0</td>\n",
       "      <td>108355.0</td>\n",
       "      <td>HomeImp</td>\n",
       "      <td>NaN</td>\n",
       "      <td>28.0</td>\n",
       "      <td>0.0</td>\n",
       "      <td>0.0</td>\n",
       "      <td>139.14</td>\n",
       "      <td>0.0</td>\n",
       "      <td>14.0</td>\n",
       "      <td>34.042</td>\n",
       "    </tr>\n",
       "    <tr>\n",
       "      <th>1</th>\n",
       "      <td>0</td>\n",
       "      <td>12600</td>\n",
       "      <td>103960.0</td>\n",
       "      <td>127384.0</td>\n",
       "      <td>DebtCon</td>\n",
       "      <td>NaN</td>\n",
       "      <td>2.0</td>\n",
       "      <td>0.0</td>\n",
       "      <td>0.0</td>\n",
       "      <td>129.02</td>\n",
       "      <td>0.0</td>\n",
       "      <td>25.0</td>\n",
       "      <td>34.479</td>\n",
       "    </tr>\n",
       "    <tr>\n",
       "      <th>2</th>\n",
       "      <td>0</td>\n",
       "      <td>18000</td>\n",
       "      <td>46865.0</td>\n",
       "      <td>61266.0</td>\n",
       "      <td>DebtCon</td>\n",
       "      <td>NaN</td>\n",
       "      <td>5.0</td>\n",
       "      <td>0.0</td>\n",
       "      <td>0.0</td>\n",
       "      <td>102.59</td>\n",
       "      <td>2.0</td>\n",
       "      <td>9.0</td>\n",
       "      <td>26.354</td>\n",
       "    </tr>\n",
       "    <tr>\n",
       "      <th>3</th>\n",
       "      <td>0</td>\n",
       "      <td>10300</td>\n",
       "      <td>57676.0</td>\n",
       "      <td>71027.0</td>\n",
       "      <td>DebtCon</td>\n",
       "      <td>NaN</td>\n",
       "      <td>19.0</td>\n",
       "      <td>0.0</td>\n",
       "      <td>0.0</td>\n",
       "      <td>157.52</td>\n",
       "      <td>1.0</td>\n",
       "      <td>11.0</td>\n",
       "      <td>33.992</td>\n",
       "    </tr>\n",
       "    <tr>\n",
       "      <th>4</th>\n",
       "      <td>0</td>\n",
       "      <td>9400</td>\n",
       "      <td>56508.0</td>\n",
       "      <td>78358.0</td>\n",
       "      <td>DebtCon</td>\n",
       "      <td>NaN</td>\n",
       "      <td>17.0</td>\n",
       "      <td>0.0</td>\n",
       "      <td>0.0</td>\n",
       "      <td>141.93</td>\n",
       "      <td>0.0</td>\n",
       "      <td>11.0</td>\n",
       "      <td>32.327</td>\n",
       "    </tr>\n",
       "  </tbody>\n",
       "</table>\n",
       "</div>"
      ],
      "text/plain": [
       "   bad   loan   mortdue     value   reason  job   yoj  derog  delinq   clage  \\\n",
       "0    0  81200   18834.0  108355.0  HomeImp  NaN  28.0    0.0     0.0  139.14   \n",
       "1    0  12600  103960.0  127384.0  DebtCon  NaN   2.0    0.0     0.0  129.02   \n",
       "2    0  18000   46865.0   61266.0  DebtCon  NaN   5.0    0.0     0.0  102.59   \n",
       "3    0  10300   57676.0   71027.0  DebtCon  NaN  19.0    0.0     0.0  157.52   \n",
       "4    0   9400   56508.0   78358.0  DebtCon  NaN  17.0    0.0     0.0  141.93   \n",
       "\n",
       "   ninq  clno  debtinc  \n",
       "0   0.0  14.0   34.042  \n",
       "1   0.0  25.0   34.479  \n",
       "2   2.0   9.0   26.354  \n",
       "3   1.0  11.0   33.992  \n",
       "4   0.0  11.0   32.327  "
      ]
     },
     "execution_count": 90,
     "metadata": {},
     "output_type": "execute_result"
    }
   ],
   "source": [
    "df.head()"
   ]
  },
  {
   "cell_type": "code",
   "execution_count": 91,
   "metadata": {},
   "outputs": [
    {
     "data": {
      "text/html": [
       "<div>\n",
       "<style scoped>\n",
       "    .dataframe tbody tr th:only-of-type {\n",
       "        vertical-align: middle;\n",
       "    }\n",
       "\n",
       "    .dataframe tbody tr th {\n",
       "        vertical-align: top;\n",
       "    }\n",
       "\n",
       "    .dataframe thead th {\n",
       "        text-align: right;\n",
       "    }\n",
       "</style>\n",
       "<table border=\"1\" class=\"dataframe\">\n",
       "  <thead>\n",
       "    <tr style=\"text-align: right;\">\n",
       "      <th></th>\n",
       "      <th>count</th>\n",
       "      <th>mean</th>\n",
       "      <th>std</th>\n",
       "      <th>min</th>\n",
       "      <th>25%</th>\n",
       "      <th>50%</th>\n",
       "      <th>75%</th>\n",
       "      <th>max</th>\n",
       "    </tr>\n",
       "  </thead>\n",
       "  <tbody>\n",
       "    <tr>\n",
       "      <th>bad</th>\n",
       "      <td>3576.0</td>\n",
       "      <td>0.199385</td>\n",
       "      <td>0.399594</td>\n",
       "      <td>0.00</td>\n",
       "      <td>0.00</td>\n",
       "      <td>0.000</td>\n",
       "      <td>0.00</td>\n",
       "      <td>1.000</td>\n",
       "    </tr>\n",
       "    <tr>\n",
       "      <th>loan</th>\n",
       "      <td>3576.0</td>\n",
       "      <td>18529.697987</td>\n",
       "      <td>11262.834060</td>\n",
       "      <td>1100.00</td>\n",
       "      <td>11000.00</td>\n",
       "      <td>16200.000</td>\n",
       "      <td>23100.00</td>\n",
       "      <td>89900.000</td>\n",
       "    </tr>\n",
       "    <tr>\n",
       "      <th>mortdue</th>\n",
       "      <td>3262.0</td>\n",
       "      <td>74013.907992</td>\n",
       "      <td>44016.833772</td>\n",
       "      <td>2619.00</td>\n",
       "      <td>46700.25</td>\n",
       "      <td>65858.000</td>\n",
       "      <td>91717.00</td>\n",
       "      <td>399550.000</td>\n",
       "    </tr>\n",
       "    <tr>\n",
       "      <th>value</th>\n",
       "      <td>3512.0</td>\n",
       "      <td>101076.922759</td>\n",
       "      <td>54865.275351</td>\n",
       "      <td>8800.00</td>\n",
       "      <td>65753.00</td>\n",
       "      <td>89183.000</td>\n",
       "      <td>118928.25</td>\n",
       "      <td>850000.000</td>\n",
       "    </tr>\n",
       "    <tr>\n",
       "      <th>yoj</th>\n",
       "      <td>3264.0</td>\n",
       "      <td>8.832644</td>\n",
       "      <td>7.568046</td>\n",
       "      <td>0.00</td>\n",
       "      <td>3.00</td>\n",
       "      <td>7.000</td>\n",
       "      <td>13.00</td>\n",
       "      <td>41.000</td>\n",
       "    </tr>\n",
       "    <tr>\n",
       "      <th>derog</th>\n",
       "      <td>3149.0</td>\n",
       "      <td>0.261670</td>\n",
       "      <td>0.865178</td>\n",
       "      <td>0.00</td>\n",
       "      <td>0.00</td>\n",
       "      <td>0.000</td>\n",
       "      <td>0.00</td>\n",
       "      <td>10.000</td>\n",
       "    </tr>\n",
       "    <tr>\n",
       "      <th>delinq</th>\n",
       "      <td>3225.0</td>\n",
       "      <td>0.432558</td>\n",
       "      <td>1.099230</td>\n",
       "      <td>0.00</td>\n",
       "      <td>0.00</td>\n",
       "      <td>0.000</td>\n",
       "      <td>0.00</td>\n",
       "      <td>15.000</td>\n",
       "    </tr>\n",
       "    <tr>\n",
       "      <th>clage</th>\n",
       "      <td>3397.0</td>\n",
       "      <td>179.832529</td>\n",
       "      <td>87.066198</td>\n",
       "      <td>0.49</td>\n",
       "      <td>115.60</td>\n",
       "      <td>173.640</td>\n",
       "      <td>230.71</td>\n",
       "      <td>1168.230</td>\n",
       "    </tr>\n",
       "    <tr>\n",
       "      <th>ninq</th>\n",
       "      <td>3273.0</td>\n",
       "      <td>1.186373</td>\n",
       "      <td>1.728723</td>\n",
       "      <td>0.00</td>\n",
       "      <td>0.00</td>\n",
       "      <td>1.000</td>\n",
       "      <td>2.00</td>\n",
       "      <td>17.000</td>\n",
       "    </tr>\n",
       "    <tr>\n",
       "      <th>clno</th>\n",
       "      <td>3443.0</td>\n",
       "      <td>21.507116</td>\n",
       "      <td>10.167490</td>\n",
       "      <td>0.00</td>\n",
       "      <td>15.00</td>\n",
       "      <td>20.000</td>\n",
       "      <td>26.00</td>\n",
       "      <td>71.000</td>\n",
       "    </tr>\n",
       "    <tr>\n",
       "      <th>debtinc</th>\n",
       "      <td>2809.0</td>\n",
       "      <td>33.831737</td>\n",
       "      <td>9.061837</td>\n",
       "      <td>0.72</td>\n",
       "      <td>29.14</td>\n",
       "      <td>34.747</td>\n",
       "      <td>38.94</td>\n",
       "      <td>203.312</td>\n",
       "    </tr>\n",
       "  </tbody>\n",
       "</table>\n",
       "</div>"
      ],
      "text/plain": [
       "          count           mean           std      min       25%        50%  \\\n",
       "bad      3576.0       0.199385      0.399594     0.00      0.00      0.000   \n",
       "loan     3576.0   18529.697987  11262.834060  1100.00  11000.00  16200.000   \n",
       "mortdue  3262.0   74013.907992  44016.833772  2619.00  46700.25  65858.000   \n",
       "value    3512.0  101076.922759  54865.275351  8800.00  65753.00  89183.000   \n",
       "yoj      3264.0       8.832644      7.568046     0.00      3.00      7.000   \n",
       "derog    3149.0       0.261670      0.865178     0.00      0.00      0.000   \n",
       "delinq   3225.0       0.432558      1.099230     0.00      0.00      0.000   \n",
       "clage    3397.0     179.832529     87.066198     0.49    115.60    173.640   \n",
       "ninq     3273.0       1.186373      1.728723     0.00      0.00      1.000   \n",
       "clno     3443.0      21.507116     10.167490     0.00     15.00     20.000   \n",
       "debtinc  2809.0      33.831737      9.061837     0.72     29.14     34.747   \n",
       "\n",
       "               75%         max  \n",
       "bad           0.00       1.000  \n",
       "loan      23100.00   89900.000  \n",
       "mortdue   91717.00  399550.000  \n",
       "value    118928.25  850000.000  \n",
       "yoj          13.00      41.000  \n",
       "derog         0.00      10.000  \n",
       "delinq        0.00      15.000  \n",
       "clage       230.71    1168.230  \n",
       "ninq          2.00      17.000  \n",
       "clno         26.00      71.000  \n",
       "debtinc      38.94     203.312  "
      ]
     },
     "execution_count": 91,
     "metadata": {},
     "output_type": "execute_result"
    }
   ],
   "source": [
    "df.describe().T"
   ]
  },
  {
   "cell_type": "code",
   "execution_count": 92,
   "metadata": {},
   "outputs": [
    {
     "name": "stdout",
     "output_type": "stream",
     "text": [
      "<class 'pandas.core.frame.DataFrame'>\n",
      "RangeIndex: 3576 entries, 0 to 3575\n",
      "Data columns (total 13 columns):\n",
      " #   Column   Non-Null Count  Dtype  \n",
      "---  ------   --------------  -----  \n",
      " 0   bad      3576 non-null   int64  \n",
      " 1   loan     3576 non-null   int64  \n",
      " 2   mortdue  3262 non-null   float64\n",
      " 3   value    3512 non-null   float64\n",
      " 4   reason   3429 non-null   object \n",
      " 5   job      3409 non-null   object \n",
      " 6   yoj      3264 non-null   float64\n",
      " 7   derog    3149 non-null   float64\n",
      " 8   delinq   3225 non-null   float64\n",
      " 9   clage    3397 non-null   float64\n",
      " 10  ninq     3273 non-null   float64\n",
      " 11  clno     3443 non-null   float64\n",
      " 12  debtinc  2809 non-null   float64\n",
      "dtypes: float64(9), int64(2), object(2)\n",
      "memory usage: 363.3+ KB\n"
     ]
    }
   ],
   "source": [
    "df.info()"
   ]
  },
  {
   "cell_type": "code",
   "execution_count": 93,
   "metadata": {},
   "outputs": [
    {
     "data": {
      "text/plain": [
       "(3576, 13)"
      ]
     },
     "execution_count": 93,
     "metadata": {},
     "output_type": "execute_result"
    }
   ],
   "source": [
    "df.shape"
   ]
  },
  {
   "cell_type": "code",
   "execution_count": 94,
   "metadata": {},
   "outputs": [
    {
     "data": {
      "text/plain": [
       "bad          0\n",
       "loan         0\n",
       "mortdue    314\n",
       "value       64\n",
       "reason     147\n",
       "job        167\n",
       "yoj        312\n",
       "derog      427\n",
       "delinq     351\n",
       "clage      179\n",
       "ninq       303\n",
       "clno       133\n",
       "debtinc    767\n",
       "dtype: int64"
      ]
     },
     "execution_count": 94,
     "metadata": {},
     "output_type": "execute_result"
    }
   ],
   "source": [
    "df.isnull().sum()"
   ]
  },
  {
   "cell_type": "code",
   "execution_count": 95,
   "metadata": {},
   "outputs": [],
   "source": [
    "df = df.dropna()"
   ]
  },
  {
   "cell_type": "code",
   "execution_count": 96,
   "metadata": {},
   "outputs": [
    {
     "data": {
      "text/html": [
       "<div>\n",
       "<style scoped>\n",
       "    .dataframe tbody tr th:only-of-type {\n",
       "        vertical-align: middle;\n",
       "    }\n",
       "\n",
       "    .dataframe tbody tr th {\n",
       "        vertical-align: top;\n",
       "    }\n",
       "\n",
       "    .dataframe thead th {\n",
       "        text-align: right;\n",
       "    }\n",
       "</style>\n",
       "<table border=\"1\" class=\"dataframe\">\n",
       "  <thead>\n",
       "    <tr style=\"text-align: right;\">\n",
       "      <th></th>\n",
       "      <th>job_Mgr</th>\n",
       "      <th>job_Office</th>\n",
       "      <th>job_Other</th>\n",
       "      <th>job_ProfEx</th>\n",
       "      <th>job_Sales</th>\n",
       "      <th>job_Self</th>\n",
       "      <th>reason_DebtCon</th>\n",
       "      <th>reason_HomeImp</th>\n",
       "    </tr>\n",
       "  </thead>\n",
       "  <tbody>\n",
       "    <tr>\n",
       "      <th>153</th>\n",
       "      <td>1</td>\n",
       "      <td>0</td>\n",
       "      <td>0</td>\n",
       "      <td>0</td>\n",
       "      <td>0</td>\n",
       "      <td>0</td>\n",
       "      <td>1</td>\n",
       "      <td>0</td>\n",
       "    </tr>\n",
       "    <tr>\n",
       "      <th>154</th>\n",
       "      <td>1</td>\n",
       "      <td>0</td>\n",
       "      <td>0</td>\n",
       "      <td>0</td>\n",
       "      <td>0</td>\n",
       "      <td>0</td>\n",
       "      <td>1</td>\n",
       "      <td>0</td>\n",
       "    </tr>\n",
       "    <tr>\n",
       "      <th>155</th>\n",
       "      <td>1</td>\n",
       "      <td>0</td>\n",
       "      <td>0</td>\n",
       "      <td>0</td>\n",
       "      <td>0</td>\n",
       "      <td>0</td>\n",
       "      <td>1</td>\n",
       "      <td>0</td>\n",
       "    </tr>\n",
       "    <tr>\n",
       "      <th>156</th>\n",
       "      <td>1</td>\n",
       "      <td>0</td>\n",
       "      <td>0</td>\n",
       "      <td>0</td>\n",
       "      <td>0</td>\n",
       "      <td>0</td>\n",
       "      <td>0</td>\n",
       "      <td>1</td>\n",
       "    </tr>\n",
       "    <tr>\n",
       "      <th>157</th>\n",
       "      <td>1</td>\n",
       "      <td>0</td>\n",
       "      <td>0</td>\n",
       "      <td>0</td>\n",
       "      <td>0</td>\n",
       "      <td>0</td>\n",
       "      <td>1</td>\n",
       "      <td>0</td>\n",
       "    </tr>\n",
       "  </tbody>\n",
       "</table>\n",
       "</div>"
      ],
      "text/plain": [
       "     job_Mgr  job_Office  job_Other  job_ProfEx  job_Sales  job_Self  \\\n",
       "153        1           0          0           0          0         0   \n",
       "154        1           0          0           0          0         0   \n",
       "155        1           0          0           0          0         0   \n",
       "156        1           0          0           0          0         0   \n",
       "157        1           0          0           0          0         0   \n",
       "\n",
       "     reason_DebtCon  reason_HomeImp  \n",
       "153               1               0  \n",
       "154               1               0  \n",
       "155               1               0  \n",
       "156               0               1  \n",
       "157               1               0  "
      ]
     },
     "execution_count": 96,
     "metadata": {},
     "output_type": "execute_result"
    }
   ],
   "source": [
    "#kategorik değişkenler için dummy uyguluyorum\n",
    "dms = pd.get_dummies(df[['job', 'reason']])\n",
    "dms.head()"
   ]
  },
  {
   "cell_type": "code",
   "execution_count": 97,
   "metadata": {},
   "outputs": [
    {
     "data": {
      "text/html": [
       "<div>\n",
       "<style scoped>\n",
       "    .dataframe tbody tr th:only-of-type {\n",
       "        vertical-align: middle;\n",
       "    }\n",
       "\n",
       "    .dataframe tbody tr th {\n",
       "        vertical-align: top;\n",
       "    }\n",
       "\n",
       "    .dataframe thead th {\n",
       "        text-align: right;\n",
       "    }\n",
       "</style>\n",
       "<table border=\"1\" class=\"dataframe\">\n",
       "  <thead>\n",
       "    <tr style=\"text-align: right;\">\n",
       "      <th></th>\n",
       "      <th>bad</th>\n",
       "      <th>loan</th>\n",
       "      <th>mortdue</th>\n",
       "      <th>value</th>\n",
       "      <th>yoj</th>\n",
       "      <th>derog</th>\n",
       "      <th>delinq</th>\n",
       "      <th>clage</th>\n",
       "      <th>ninq</th>\n",
       "      <th>clno</th>\n",
       "      <th>debtinc</th>\n",
       "    </tr>\n",
       "  </thead>\n",
       "  <tbody>\n",
       "    <tr>\n",
       "      <th>153</th>\n",
       "      <td>0</td>\n",
       "      <td>18200</td>\n",
       "      <td>94727.0</td>\n",
       "      <td>136877.0</td>\n",
       "      <td>15.0</td>\n",
       "      <td>0.0</td>\n",
       "      <td>0.0</td>\n",
       "      <td>168.96</td>\n",
       "      <td>2.0</td>\n",
       "      <td>26.0</td>\n",
       "      <td>36.056</td>\n",
       "    </tr>\n",
       "    <tr>\n",
       "      <th>154</th>\n",
       "      <td>0</td>\n",
       "      <td>21700</td>\n",
       "      <td>79240.0</td>\n",
       "      <td>96784.0</td>\n",
       "      <td>5.0</td>\n",
       "      <td>0.0</td>\n",
       "      <td>0.0</td>\n",
       "      <td>64.51</td>\n",
       "      <td>6.0</td>\n",
       "      <td>24.0</td>\n",
       "      <td>38.079</td>\n",
       "    </tr>\n",
       "    <tr>\n",
       "      <th>155</th>\n",
       "      <td>0</td>\n",
       "      <td>34100</td>\n",
       "      <td>241931.0</td>\n",
       "      <td>36486.0</td>\n",
       "      <td>1.0</td>\n",
       "      <td>0.0</td>\n",
       "      <td>2.0</td>\n",
       "      <td>196.01</td>\n",
       "      <td>3.0</td>\n",
       "      <td>50.0</td>\n",
       "      <td>42.459</td>\n",
       "    </tr>\n",
       "    <tr>\n",
       "      <th>156</th>\n",
       "      <td>0</td>\n",
       "      <td>8400</td>\n",
       "      <td>62989.0</td>\n",
       "      <td>76718.0</td>\n",
       "      <td>3.0</td>\n",
       "      <td>0.0</td>\n",
       "      <td>2.0</td>\n",
       "      <td>131.47</td>\n",
       "      <td>0.0</td>\n",
       "      <td>22.0</td>\n",
       "      <td>29.200</td>\n",
       "    </tr>\n",
       "    <tr>\n",
       "      <th>157</th>\n",
       "      <td>0</td>\n",
       "      <td>17400</td>\n",
       "      <td>25859.0</td>\n",
       "      <td>43684.0</td>\n",
       "      <td>16.0</td>\n",
       "      <td>1.0</td>\n",
       "      <td>0.0</td>\n",
       "      <td>95.36</td>\n",
       "      <td>1.0</td>\n",
       "      <td>17.0</td>\n",
       "      <td>27.108</td>\n",
       "    </tr>\n",
       "  </tbody>\n",
       "</table>\n",
       "</div>"
      ],
      "text/plain": [
       "     bad   loan   mortdue     value   yoj  derog  delinq   clage  ninq  clno  \\\n",
       "153    0  18200   94727.0  136877.0  15.0    0.0     0.0  168.96   2.0  26.0   \n",
       "154    0  21700   79240.0   96784.0   5.0    0.0     0.0   64.51   6.0  24.0   \n",
       "155    0  34100  241931.0   36486.0   1.0    0.0     2.0  196.01   3.0  50.0   \n",
       "156    0   8400   62989.0   76718.0   3.0    0.0     2.0  131.47   0.0  22.0   \n",
       "157    0  17400   25859.0   43684.0  16.0    1.0     0.0   95.36   1.0  17.0   \n",
       "\n",
       "     debtinc  \n",
       "153   36.056  \n",
       "154   38.079  \n",
       "155   42.459  \n",
       "156   29.200  \n",
       "157   27.108  "
      ]
     },
     "execution_count": 97,
     "metadata": {},
     "output_type": "execute_result"
    }
   ],
   "source": [
    "df =  df.drop([\"job\",\"reason\"], axis = 1)\n",
    "df.head()"
   ]
  },
  {
   "cell_type": "code",
   "execution_count": 98,
   "metadata": {},
   "outputs": [
    {
     "data": {
      "text/html": [
       "<div>\n",
       "<style scoped>\n",
       "    .dataframe tbody tr th:only-of-type {\n",
       "        vertical-align: middle;\n",
       "    }\n",
       "\n",
       "    .dataframe tbody tr th {\n",
       "        vertical-align: top;\n",
       "    }\n",
       "\n",
       "    .dataframe thead th {\n",
       "        text-align: right;\n",
       "    }\n",
       "</style>\n",
       "<table border=\"1\" class=\"dataframe\">\n",
       "  <thead>\n",
       "    <tr style=\"text-align: right;\">\n",
       "      <th></th>\n",
       "      <th>bad</th>\n",
       "      <th>loan</th>\n",
       "      <th>mortdue</th>\n",
       "      <th>value</th>\n",
       "      <th>yoj</th>\n",
       "      <th>derog</th>\n",
       "      <th>delinq</th>\n",
       "      <th>clage</th>\n",
       "      <th>ninq</th>\n",
       "      <th>clno</th>\n",
       "      <th>debtinc</th>\n",
       "      <th>job_Mgr</th>\n",
       "      <th>job_Office</th>\n",
       "      <th>job_Other</th>\n",
       "      <th>job_ProfEx</th>\n",
       "      <th>job_Sales</th>\n",
       "      <th>job_Self</th>\n",
       "      <th>reason_DebtCon</th>\n",
       "      <th>reason_HomeImp</th>\n",
       "    </tr>\n",
       "  </thead>\n",
       "  <tbody>\n",
       "    <tr>\n",
       "      <th>153</th>\n",
       "      <td>0</td>\n",
       "      <td>18200</td>\n",
       "      <td>94727.0</td>\n",
       "      <td>136877.0</td>\n",
       "      <td>15.0</td>\n",
       "      <td>0.0</td>\n",
       "      <td>0.0</td>\n",
       "      <td>168.96</td>\n",
       "      <td>2.0</td>\n",
       "      <td>26.0</td>\n",
       "      <td>36.056</td>\n",
       "      <td>1</td>\n",
       "      <td>0</td>\n",
       "      <td>0</td>\n",
       "      <td>0</td>\n",
       "      <td>0</td>\n",
       "      <td>0</td>\n",
       "      <td>1</td>\n",
       "      <td>0</td>\n",
       "    </tr>\n",
       "    <tr>\n",
       "      <th>154</th>\n",
       "      <td>0</td>\n",
       "      <td>21700</td>\n",
       "      <td>79240.0</td>\n",
       "      <td>96784.0</td>\n",
       "      <td>5.0</td>\n",
       "      <td>0.0</td>\n",
       "      <td>0.0</td>\n",
       "      <td>64.51</td>\n",
       "      <td>6.0</td>\n",
       "      <td>24.0</td>\n",
       "      <td>38.079</td>\n",
       "      <td>1</td>\n",
       "      <td>0</td>\n",
       "      <td>0</td>\n",
       "      <td>0</td>\n",
       "      <td>0</td>\n",
       "      <td>0</td>\n",
       "      <td>1</td>\n",
       "      <td>0</td>\n",
       "    </tr>\n",
       "    <tr>\n",
       "      <th>155</th>\n",
       "      <td>0</td>\n",
       "      <td>34100</td>\n",
       "      <td>241931.0</td>\n",
       "      <td>36486.0</td>\n",
       "      <td>1.0</td>\n",
       "      <td>0.0</td>\n",
       "      <td>2.0</td>\n",
       "      <td>196.01</td>\n",
       "      <td>3.0</td>\n",
       "      <td>50.0</td>\n",
       "      <td>42.459</td>\n",
       "      <td>1</td>\n",
       "      <td>0</td>\n",
       "      <td>0</td>\n",
       "      <td>0</td>\n",
       "      <td>0</td>\n",
       "      <td>0</td>\n",
       "      <td>1</td>\n",
       "      <td>0</td>\n",
       "    </tr>\n",
       "    <tr>\n",
       "      <th>156</th>\n",
       "      <td>0</td>\n",
       "      <td>8400</td>\n",
       "      <td>62989.0</td>\n",
       "      <td>76718.0</td>\n",
       "      <td>3.0</td>\n",
       "      <td>0.0</td>\n",
       "      <td>2.0</td>\n",
       "      <td>131.47</td>\n",
       "      <td>0.0</td>\n",
       "      <td>22.0</td>\n",
       "      <td>29.200</td>\n",
       "      <td>1</td>\n",
       "      <td>0</td>\n",
       "      <td>0</td>\n",
       "      <td>0</td>\n",
       "      <td>0</td>\n",
       "      <td>0</td>\n",
       "      <td>0</td>\n",
       "      <td>1</td>\n",
       "    </tr>\n",
       "    <tr>\n",
       "      <th>157</th>\n",
       "      <td>0</td>\n",
       "      <td>17400</td>\n",
       "      <td>25859.0</td>\n",
       "      <td>43684.0</td>\n",
       "      <td>16.0</td>\n",
       "      <td>1.0</td>\n",
       "      <td>0.0</td>\n",
       "      <td>95.36</td>\n",
       "      <td>1.0</td>\n",
       "      <td>17.0</td>\n",
       "      <td>27.108</td>\n",
       "      <td>1</td>\n",
       "      <td>0</td>\n",
       "      <td>0</td>\n",
       "      <td>0</td>\n",
       "      <td>0</td>\n",
       "      <td>0</td>\n",
       "      <td>1</td>\n",
       "      <td>0</td>\n",
       "    </tr>\n",
       "    <tr>\n",
       "      <th>...</th>\n",
       "      <td>...</td>\n",
       "      <td>...</td>\n",
       "      <td>...</td>\n",
       "      <td>...</td>\n",
       "      <td>...</td>\n",
       "      <td>...</td>\n",
       "      <td>...</td>\n",
       "      <td>...</td>\n",
       "      <td>...</td>\n",
       "      <td>...</td>\n",
       "      <td>...</td>\n",
       "      <td>...</td>\n",
       "      <td>...</td>\n",
       "      <td>...</td>\n",
       "      <td>...</td>\n",
       "      <td>...</td>\n",
       "      <td>...</td>\n",
       "      <td>...</td>\n",
       "      <td>...</td>\n",
       "    </tr>\n",
       "    <tr>\n",
       "      <th>3544</th>\n",
       "      <td>1</td>\n",
       "      <td>7200</td>\n",
       "      <td>15637.0</td>\n",
       "      <td>39660.0</td>\n",
       "      <td>6.0</td>\n",
       "      <td>0.0</td>\n",
       "      <td>1.0</td>\n",
       "      <td>354.24</td>\n",
       "      <td>3.0</td>\n",
       "      <td>42.0</td>\n",
       "      <td>33.624</td>\n",
       "      <td>0</td>\n",
       "      <td>0</td>\n",
       "      <td>0</td>\n",
       "      <td>0</td>\n",
       "      <td>0</td>\n",
       "      <td>1</td>\n",
       "      <td>0</td>\n",
       "      <td>1</td>\n",
       "    </tr>\n",
       "    <tr>\n",
       "      <th>3546</th>\n",
       "      <td>1</td>\n",
       "      <td>53400</td>\n",
       "      <td>228236.0</td>\n",
       "      <td>305514.0</td>\n",
       "      <td>6.0</td>\n",
       "      <td>0.0</td>\n",
       "      <td>0.0</td>\n",
       "      <td>11.15</td>\n",
       "      <td>0.0</td>\n",
       "      <td>2.0</td>\n",
       "      <td>34.558</td>\n",
       "      <td>0</td>\n",
       "      <td>0</td>\n",
       "      <td>0</td>\n",
       "      <td>0</td>\n",
       "      <td>0</td>\n",
       "      <td>1</td>\n",
       "      <td>0</td>\n",
       "      <td>1</td>\n",
       "    </tr>\n",
       "    <tr>\n",
       "      <th>3547</th>\n",
       "      <td>1</td>\n",
       "      <td>27300</td>\n",
       "      <td>106221.0</td>\n",
       "      <td>137727.0</td>\n",
       "      <td>3.0</td>\n",
       "      <td>0.0</td>\n",
       "      <td>0.0</td>\n",
       "      <td>300.57</td>\n",
       "      <td>3.0</td>\n",
       "      <td>45.0</td>\n",
       "      <td>32.560</td>\n",
       "      <td>0</td>\n",
       "      <td>0</td>\n",
       "      <td>0</td>\n",
       "      <td>0</td>\n",
       "      <td>0</td>\n",
       "      <td>1</td>\n",
       "      <td>1</td>\n",
       "      <td>0</td>\n",
       "    </tr>\n",
       "    <tr>\n",
       "      <th>3548</th>\n",
       "      <td>1</td>\n",
       "      <td>37300</td>\n",
       "      <td>68789.0</td>\n",
       "      <td>86172.0</td>\n",
       "      <td>2.0</td>\n",
       "      <td>0.0</td>\n",
       "      <td>6.0</td>\n",
       "      <td>235.64</td>\n",
       "      <td>2.0</td>\n",
       "      <td>25.0</td>\n",
       "      <td>114.051</td>\n",
       "      <td>0</td>\n",
       "      <td>0</td>\n",
       "      <td>0</td>\n",
       "      <td>0</td>\n",
       "      <td>0</td>\n",
       "      <td>1</td>\n",
       "      <td>0</td>\n",
       "      <td>1</td>\n",
       "    </tr>\n",
       "    <tr>\n",
       "      <th>3549</th>\n",
       "      <td>1</td>\n",
       "      <td>13300</td>\n",
       "      <td>25698.0</td>\n",
       "      <td>58760.0</td>\n",
       "      <td>15.0</td>\n",
       "      <td>0.0</td>\n",
       "      <td>0.0</td>\n",
       "      <td>147.91</td>\n",
       "      <td>1.0</td>\n",
       "      <td>10.0</td>\n",
       "      <td>30.962</td>\n",
       "      <td>0</td>\n",
       "      <td>0</td>\n",
       "      <td>0</td>\n",
       "      <td>0</td>\n",
       "      <td>0</td>\n",
       "      <td>1</td>\n",
       "      <td>0</td>\n",
       "      <td>1</td>\n",
       "    </tr>\n",
       "  </tbody>\n",
       "</table>\n",
       "<p>2018 rows × 19 columns</p>\n",
       "</div>"
      ],
      "text/plain": [
       "      bad   loan   mortdue     value   yoj  derog  delinq   clage  ninq  clno  \\\n",
       "153     0  18200   94727.0  136877.0  15.0    0.0     0.0  168.96   2.0  26.0   \n",
       "154     0  21700   79240.0   96784.0   5.0    0.0     0.0   64.51   6.0  24.0   \n",
       "155     0  34100  241931.0   36486.0   1.0    0.0     2.0  196.01   3.0  50.0   \n",
       "156     0   8400   62989.0   76718.0   3.0    0.0     2.0  131.47   0.0  22.0   \n",
       "157     0  17400   25859.0   43684.0  16.0    1.0     0.0   95.36   1.0  17.0   \n",
       "...   ...    ...       ...       ...   ...    ...     ...     ...   ...   ...   \n",
       "3544    1   7200   15637.0   39660.0   6.0    0.0     1.0  354.24   3.0  42.0   \n",
       "3546    1  53400  228236.0  305514.0   6.0    0.0     0.0   11.15   0.0   2.0   \n",
       "3547    1  27300  106221.0  137727.0   3.0    0.0     0.0  300.57   3.0  45.0   \n",
       "3548    1  37300   68789.0   86172.0   2.0    0.0     6.0  235.64   2.0  25.0   \n",
       "3549    1  13300   25698.0   58760.0  15.0    0.0     0.0  147.91   1.0  10.0   \n",
       "\n",
       "      debtinc  job_Mgr  job_Office  job_Other  job_ProfEx  job_Sales  \\\n",
       "153    36.056        1           0          0           0          0   \n",
       "154    38.079        1           0          0           0          0   \n",
       "155    42.459        1           0          0           0          0   \n",
       "156    29.200        1           0          0           0          0   \n",
       "157    27.108        1           0          0           0          0   \n",
       "...       ...      ...         ...        ...         ...        ...   \n",
       "3544   33.624        0           0          0           0          0   \n",
       "3546   34.558        0           0          0           0          0   \n",
       "3547   32.560        0           0          0           0          0   \n",
       "3548  114.051        0           0          0           0          0   \n",
       "3549   30.962        0           0          0           0          0   \n",
       "\n",
       "      job_Self  reason_DebtCon  reason_HomeImp  \n",
       "153          0               1               0  \n",
       "154          0               1               0  \n",
       "155          0               1               0  \n",
       "156          0               0               1  \n",
       "157          0               1               0  \n",
       "...        ...             ...             ...  \n",
       "3544         1               0               1  \n",
       "3546         1               0               1  \n",
       "3547         1               1               0  \n",
       "3548         1               0               1  \n",
       "3549         1               0               1  \n",
       "\n",
       "[2018 rows x 19 columns]"
      ]
     },
     "execution_count": 98,
     "metadata": {},
     "output_type": "execute_result"
    }
   ],
   "source": [
    "df = pd.concat([df, dms], axis = 1)\n",
    "df"
   ]
  },
  {
   "cell_type": "code",
   "execution_count": 99,
   "metadata": {},
   "outputs": [
    {
     "data": {
      "text/plain": [
       "0    1840\n",
       "1     178\n",
       "Name: bad, dtype: int64"
      ]
     },
     "execution_count": 99,
     "metadata": {},
     "output_type": "execute_result"
    }
   ],
   "source": [
    "df[\"bad\"].value_counts()\n",
    "# bad'in dagılımına baktık"
   ]
  },
  {
   "cell_type": "code",
   "execution_count": 100,
   "metadata": {},
   "outputs": [
    {
     "data": {
      "text/plain": [
       "<matplotlib.axes._subplots.AxesSubplot at 0x1f5147a3a88>"
      ]
     },
     "execution_count": 100,
     "metadata": {},
     "output_type": "execute_result"
    },
    {
     "data": {
      "image/png": "[encoded data removed]",
      "text/plain": [
       "<Figure size 432x288 with 1 Axes>"
      ]
     },
     "metadata": {
      "needs_background": "light"
     },
     "output_type": "display_data"
    }
   ],
   "source": [
    "sns.countplot(df['bad'])\n"
   ]
  },
  {
   "cell_type": "code",
   "execution_count": 101,
   "metadata": {
    "scrolled": true
   },
   "outputs": [
    {
     "data": {
      "image/png": "[encoded data removed]",
      "text/plain": [
       "<Figure size 432x288 with 2 Axes>"
      ]
     },
     "metadata": {
      "needs_background": "light"
     },
     "output_type": "display_data"
    }
   ],
   "source": [
    "sns.heatmap(df.corr(), cmap='Blues');"
   ]
  },
  {
   "cell_type": "code",
   "execution_count": 102,
   "metadata": {},
   "outputs": [],
   "source": [
    "y = df[\"bad\"]\n",
    "X = df.drop(['bad'], axis=1)\n",
    "X = pd.DataFrame(X)\n",
    "X_train, X_test, y_train, y_test = train_test_split(X, y, \n",
    "                                                    test_size=0.30, \n",
    "                                                    random_state=42)"
   ]
  },
  {
   "cell_type": "code",
   "execution_count": 103,
   "metadata": {},
   "outputs": [],
   "source": [
    "from sklearn.tree import DecisionTreeClassifier"
   ]
  },
  {
   "cell_type": "code",
   "execution_count": 104,
   "metadata": {},
   "outputs": [],
   "source": [
    "cart = DecisionTreeClassifier()\n",
    "cart_model = cart.fit(X_train, y_train)"
   ]
  },
  {
   "cell_type": "code",
   "execution_count": 105,
   "metadata": {},
   "outputs": [
    {
     "data": {
      "text/plain": [
       "DecisionTreeClassifier(ccp_alpha=0.0, class_weight=None, criterion='gini',\n",
       "                       max_depth=None, max_features=None, max_leaf_nodes=None,\n",
       "                       min_impurity_decrease=0.0, min_impurity_split=None,\n",
       "                       min_samples_leaf=1, min_samples_split=2,\n",
       "                       min_weight_fraction_leaf=0.0, presort='deprecated',\n",
       "                       random_state=None, splitter='best')"
      ]
     },
     "execution_count": 105,
     "metadata": {},
     "output_type": "execute_result"
    }
   ],
   "source": [
    "cart_model"
   ]
  },
  {
   "cell_type": "code",
   "execution_count": 106,
   "metadata": {},
   "outputs": [
    {
     "name": "stdout",
     "output_type": "stream",
     "text": [
      "((((((0 if x[2] <= 36741.5 else (0 if x[1] <= 16220.0 else 1) if x[3] <= \n",
      "    7.0 else 0) if x[9] <= 32.76449966430664 else 0 if x[3] <= 1.5 else (1 if\n",
      "    x[12] <= 0.5 else 0) if x[8] <= 6.0 else 1) if x[0] <= 12750.0 else 0 if\n",
      "    x[7] <= 4.0 else 1) if x[2] <= 48600.0 else ((((((((((1 if x[9] <= \n",
      "    33.51150035858154 else 0) if x[1] <= 39828.0 else 1 if x[8] <= 8.0 else\n",
      "    ((1 if x[3] <= 2.5 else 0 if x[7] <= 2.5 else 1 if x[0] <= 14850.0 else\n",
      "    0) if x[6] <= 70.125 else 1) if x[6] <= 71.81999969482422 else (0 if x[\n",
      "    0] <= 9450.0 else 0 if x[2] <= 66659.0 else 1) if x[16] <= 0.5 else 0) if\n",
      "    x[2] <= 85577.5 else 1) if x[6] <= 94.25 else 0 if x[2] <= 72614.0 else\n",
      "    1) if x[2] <= 86023.5 else (0 if x[1] <= 83854.0 else 1) if x[8] <= 9.5\n",
      "     else 0) if x[6] <= 95.79000091552734 else ((0 if x[16] <= 0.5 else (1 if\n",
      "    x[12] <= 0.5 else 0) if x[8] <= 28.0 else 0) if x[4] <= 0.5 else 1 if x\n",
      "    [6] <= 220.90999603271484 else 0) if x[0] <= 6950.0 else ((((1 if x[0] <=\n",
      "    10300.0 else (0 if x[9] <= 40.778499603271484 else 1) if x[1] <= \n",
      "    41692.0 else 1) if x[1] <= 42965.5 else (0 if x[9] <= 36.95399856567383\n",
      "     else 1 if x[9] <= 37.1560001373291 else (0 if x[9] <= \n",
      "    38.04250144958496 else 1) if x[9] <= 38.08650016784668 else 0) if x[6] <=\n",
      "    299.2850036621094 else 0 if x[8] <= 28.5 else 1 if x[0] <= 27850.0 else\n",
      "    0) if x[3] <= 3.5 else (0 if x[15] <= 0.5 else 1 if x[1] <= 73167.0 else\n",
      "    0) if x[8] <= 10.5 else ((0 if x[9] <= 22.012500762939453 else 1) if x[\n",
      "    9] <= 22.115500450134277 else (0 if x[0] <= 12150.0 else 1) if x[0] <= \n",
      "    12250.0 else 0) if x[6] <= 310.88499450683594 else 1 if x[6] <= \n",
      "    313.7250061035156 else 0) if x[9] <= 43.70450019836426 else 1 if x[2] <=\n",
      "    69498.0 else 0) if x[10] <= 0.5 else ((((0 if x[1] <= 69985.0 else 1) if\n",
      "    x[9] <= 27.792499542236328 else 0) if x[4] <= 0.5 else 0 if x[2] <= \n",
      "    108953.5 else 1) if x[0] <= 44650.0 else 1) if x[8] <= 30.0 else 1) if \n",
      "    x[8] <= 60.0 else 1) if x[6] <= 901.3450012207031 else 1) if x[5] <= \n",
      "    1.5 else ((1 if x[0] <= 5400.0 else 1 if x[6] <= 27.470000743865967 else\n",
      "    0) if x[1] <= 73471.0 else 1 if x[2] <= 104882.0 else 1 if x[1] <= \n",
      "    80500.5 else 1 if x[0] <= 9850.0 else 0) if x[2] <= 126358.5 else 1) if\n",
      "    x[7] <= 3.5 else (1 if x[2] <= 69583.0 else (0 if x[11] <= 0.5 else 0 if\n",
      "    x[4] <= 0.5 else 1) if x[1] <= 107767.0 else 1 if x[10] <= 0.5 else 0) if\n",
      "    x[5] <= 0.5 else 1 if x[0] <= 23500.0 else 0) if x[2] <= 297086.0 else \n",
      "    (0 if x[1] <= 383586.5 else 1) if x[0] <= 42100.0 else 1) if x[5] <= \n",
      "    3.5 else 1 if x[8] <= 33.0 else 1 if x[6] <= 160.2449951171875 else 0) if\n",
      "    x[9] <= 45.64449882507324 else 1)\n",
      "\n"
     ]
    }
   ],
   "source": [
    "from skompiler import skompile\n",
    "print(skompile(cart_model.predict).to(\"python/code\"))"
   ]
  },
  {
   "cell_type": "code",
   "execution_count": 107,
   "metadata": {},
   "outputs": [
    {
     "data": {
      "text/plain": [
       "0.9240924092409241"
      ]
     },
     "execution_count": 107,
     "metadata": {},
     "output_type": "execute_result"
    }
   ],
   "source": [
    "y_pred = cart_model.predict(X_test)\n",
    "accuracy_score(y_test, y_pred)"
   ]
  },
  {
   "cell_type": "code",
   "execution_count": 108,
   "metadata": {},
   "outputs": [
    {
     "data": {
      "text/plain": [
       "DecisionTreeClassifier(ccp_alpha=0.0, class_weight=None, criterion='gini',\n",
       "                       max_depth=None, max_features=None, max_leaf_nodes=None,\n",
       "                       min_impurity_decrease=0.0, min_impurity_split=None,\n",
       "                       min_samples_leaf=1, min_samples_split=2,\n",
       "                       min_weight_fraction_leaf=0.0, presort='deprecated',\n",
       "                       random_state=None, splitter='best')"
      ]
     },
     "execution_count": 108,
     "metadata": {},
     "output_type": "execute_result"
    }
   ],
   "source": [
    "cart_model"
   ]
  },
  {
   "cell_type": "code",
   "execution_count": 109,
   "metadata": {},
   "outputs": [],
   "source": [
    "cart_grid = {\"max_depth\": range(1,10),\n",
    "            \"min_samples_split\" : list(range(2,50)) }"
   ]
  },
  {
   "cell_type": "code",
   "execution_count": 110,
   "metadata": {},
   "outputs": [
    {
     "name": "stdout",
     "output_type": "stream",
     "text": [
      "Fitting 10 folds for each of 432 candidates, totalling 4320 fits\n"
     ]
    },
    {
     "name": "stderr",
     "output_type": "stream",
     "text": [
      "[Parallel(n_jobs=-1)]: Using backend LokyBackend with 8 concurrent workers.\n",
      "[Parallel(n_jobs=-1)]: Done  34 tasks      | elapsed:    0.0s\n",
      "[Parallel(n_jobs=-1)]: Done 2608 tasks      | elapsed:    3.6s\n",
      "[Parallel(n_jobs=-1)]: Done 4305 out of 4320 | elapsed:    6.6s remaining:    0.0s\n",
      "[Parallel(n_jobs=-1)]: Done 4320 out of 4320 | elapsed:    6.6s finished\n"
     ]
    }
   ],
   "source": [
    "cart = tree.DecisionTreeClassifier()\n",
    "cart_cv = GridSearchCV(cart, cart_grid, cv = 10, n_jobs = -1, verbose = 2)\n",
    "cart_cv_model = cart_cv.fit(X_train, y_train)"
   ]
  },
  {
   "cell_type": "code",
   "execution_count": 111,
   "metadata": {},
   "outputs": [
    {
     "name": "stdout",
     "output_type": "stream",
     "text": [
      "En iyi parametreler: {'max_depth': 8, 'min_samples_split': 2}\n"
     ]
    }
   ],
   "source": [
    "print(\"En iyi parametreler: \" + str(cart_cv_model.best_params_))"
   ]
  },
  {
   "cell_type": "code",
   "execution_count": 112,
   "metadata": {},
   "outputs": [],
   "source": [
    "cart = tree.DecisionTreeClassifier(max_depth = 9, min_samples_split = 2)\n",
    "cart_tuned = cart.fit(X_train, y_train)"
   ]
  },
  {
   "cell_type": "code",
   "execution_count": 113,
   "metadata": {},
   "outputs": [
    {
     "data": {
      "text/plain": [
       "[Text(236.45250000000001, 206.56799999999998, 'X[9] <= 45.644\\ngini = 0.163\\nsamples = 1412\\nvalue = [1286, 126]'),\n",
       " Text(226.8867857142857, 184.824, 'X[5] <= 3.5\\ngini = 0.132\\nsamples = 1384\\nvalue = [1286, 98]'),\n",
       " Text(147.6707142857143, 163.07999999999998, 'X[2] <= 48600.0\\ngini = 0.118\\nsamples = 1369\\nvalue = [1283, 86]'),\n",
       " Text(62.177142857142854, 141.336, 'X[0] <= 12750.0\\ngini = 0.347\\nsamples = 85\\nvalue = [66, 19]'),\n",
       " Text(38.26285714285714, 119.592, 'X[9] <= 32.764\\ngini = 0.492\\nsamples = 39\\nvalue = [22, 17]'),\n",
       " Text(19.13142857142857, 97.848, 'X[2] <= 36741.5\\ngini = 0.34\\nsamples = 23\\nvalue = [18, 5]'),\n",
       " Text(9.565714285714286, 76.10399999999998, 'gini = 0.0\\nsamples = 12\\nvalue = [12, 0]'),\n",
       " Text(28.697142857142858, 76.10399999999998, 'X[3] <= 7.0\\ngini = 0.496\\nsamples = 11\\nvalue = [6, 5]'),\n",
       " Text(19.13142857142857, 54.360000000000014, 'X[9] <= 24.55\\ngini = 0.278\\nsamples = 6\\nvalue = [1, 5]'),\n",
       " Text(9.565714285714286, 32.615999999999985, 'gini = 0.0\\nsamples = 1\\nvalue = [1, 0]'),\n",
       " Text(28.697142857142858, 32.615999999999985, 'gini = 0.0\\nsamples = 5\\nvalue = [0, 5]'),\n",
       " Text(38.26285714285714, 54.360000000000014, 'gini = 0.0\\nsamples = 5\\nvalue = [5, 0]'),\n",
       " Text(57.394285714285715, 97.848, 'X[3] <= 1.5\\ngini = 0.375\\nsamples = 16\\nvalue = [4, 12]'),\n",
       " Text(47.82857142857143, 76.10399999999998, 'gini = 0.0\\nsamples = 2\\nvalue = [2, 0]'),\n",
       " Text(66.96000000000001, 76.10399999999998, 'X[8] <= 6.0\\ngini = 0.245\\nsamples = 14\\nvalue = [2, 12]'),\n",
       " Text(57.394285714285715, 54.360000000000014, 'X[6] <= 120.84\\ngini = 0.444\\nsamples = 3\\nvalue = [2, 1]'),\n",
       " Text(47.82857142857143, 32.615999999999985, 'gini = 0.0\\nsamples = 2\\nvalue = [2, 0]'),\n",
       " Text(66.96000000000001, 32.615999999999985, 'gini = 0.0\\nsamples = 1\\nvalue = [0, 1]'),\n",
       " Text(76.52571428571429, 54.360000000000014, 'gini = 0.0\\nsamples = 11\\nvalue = [0, 11]'),\n",
       " Text(86.09142857142857, 119.592, 'X[7] <= 4.0\\ngini = 0.083\\nsamples = 46\\nvalue = [44, 2]'),\n",
       " Text(76.52571428571429, 97.848, 'gini = 0.0\\nsamples = 44\\nvalue = [44, 0]'),\n",
       " Text(95.65714285714286, 97.848, 'gini = 0.0\\nsamples = 2\\nvalue = [0, 2]'),\n",
       " Text(233.1642857142857, 141.336, 'X[2] <= 297086.0\\ngini = 0.099\\nsamples = 1284\\nvalue = [1217, 67]'),\n",
       " Text(179.35714285714286, 119.592, 'X[7] <= 3.5\\ngini = 0.093\\nsamples = 1274\\nvalue = [1212, 62]'),\n",
       " Text(129.13714285714286, 97.848, 'X[5] <= 1.5\\ngini = 0.078\\nsamples = 1209\\nvalue = [1160, 49]'),\n",
       " Text(105.22285714285715, 76.10399999999998, 'X[6] <= 901.345\\ngini = 0.064\\nsamples = 1149\\nvalue = [1111, 38]'),\n",
       " Text(95.65714285714286, 54.360000000000014, 'X[8] <= 60.0\\ngini = 0.062\\nsamples = 1148\\nvalue = [1111, 37]'),\n",
       " Text(86.09142857142857, 32.615999999999985, 'X[6] <= 95.79\\ngini = 0.061\\nsamples = 1147\\nvalue = [1111, 36]'),\n",
       " Text(76.52571428571429, 10.872000000000014, 'gini = 0.156\\nsamples = 152\\nvalue = [139, 13]'),\n",
       " Text(95.65714285714286, 10.872000000000014, 'gini = 0.045\\nsamples = 995\\nvalue = [972, 23]'),\n",
       " Text(105.22285714285715, 32.615999999999985, 'gini = 0.0\\nsamples = 1\\nvalue = [0, 1]'),\n",
       " Text(114.78857142857143, 54.360000000000014, 'gini = 0.0\\nsamples = 1\\nvalue = [0, 1]'),\n",
       " Text(153.05142857142857, 76.10399999999998, 'X[2] <= 126358.5\\ngini = 0.299\\nsamples = 60\\nvalue = [49, 11]'),\n",
       " Text(143.4857142857143, 54.360000000000014, 'X[1] <= 73471.0\\ngini = 0.219\\nsamples = 56\\nvalue = [49, 7]'),\n",
       " Text(124.35428571428571, 32.615999999999985, 'X[0] <= 5400.0\\ngini = 0.089\\nsamples = 43\\nvalue = [41, 2]'),\n",
       " Text(114.78857142857143, 10.872000000000014, 'gini = 0.0\\nsamples = 1\\nvalue = [0, 1]'),\n",
       " Text(133.92000000000002, 10.872000000000014, 'gini = 0.046\\nsamples = 42\\nvalue = [41, 1]'),\n",
       " Text(162.61714285714285, 32.615999999999985, 'X[1] <= 80500.5\\ngini = 0.473\\nsamples = 13\\nvalue = [8, 5]'),\n",
       " Text(153.05142857142857, 10.872000000000014, 'gini = 0.0\\nsamples = 3\\nvalue = [0, 3]'),\n",
       " Text(172.18285714285713, 10.872000000000014, 'gini = 0.32\\nsamples = 10\\nvalue = [8, 2]'),\n",
       " Text(162.61714285714285, 54.360000000000014, 'gini = 0.0\\nsamples = 4\\nvalue = [0, 4]'),\n",
       " Text(229.57714285714286, 97.848, 'X[5] <= 0.5\\ngini = 0.32\\nsamples = 65\\nvalue = [52, 13]'),\n",
       " Text(210.4457142857143, 76.10399999999998, 'X[2] <= 69583.0\\ngini = 0.212\\nsamples = 58\\nvalue = [51, 7]'),\n",
       " Text(200.88, 54.360000000000014, 'gini = 0.0\\nsamples = 4\\nvalue = [0, 4]'),\n",
       " Text(220.01142857142858, 54.360000000000014, 'X[1] <= 107767.0\\ngini = 0.105\\nsamples = 54\\nvalue = [51, 3]'),\n",
       " Text(200.88, 32.615999999999985, 'X[11] <= 0.5\\ngini = 0.038\\nsamples = 51\\nvalue = [50, 1]'),\n",
       " Text(191.31428571428572, 10.872000000000014, 'gini = 0.0\\nsamples = 44\\nvalue = [44, 0]'),\n",
       " Text(210.4457142857143, 10.872000000000014, 'gini = 0.245\\nsamples = 7\\nvalue = [6, 1]'),\n",
       " Text(239.14285714285714, 32.615999999999985, 'X[4] <= 0.5\\ngini = 0.444\\nsamples = 3\\nvalue = [1, 2]'),\n",
       " Text(229.57714285714286, 10.872000000000014, 'gini = 0.0\\nsamples = 2\\nvalue = [0, 2]'),\n",
       " Text(248.70857142857142, 10.872000000000014, 'gini = 0.0\\nsamples = 1\\nvalue = [1, 0]'),\n",
       " Text(248.70857142857142, 76.10399999999998, 'X[0] <= 23500.0\\ngini = 0.245\\nsamples = 7\\nvalue = [1, 6]'),\n",
       " Text(239.14285714285714, 54.360000000000014, 'gini = 0.0\\nsamples = 6\\nvalue = [0, 6]'),\n",
       " Text(258.2742857142857, 54.360000000000014, 'gini = 0.0\\nsamples = 1\\nvalue = [1, 0]'),\n",
       " Text(286.9714285714286, 119.592, 'X[0] <= 42100.0\\ngini = 0.5\\nsamples = 10\\nvalue = [5, 5]'),\n",
       " Text(277.4057142857143, 97.848, 'X[1] <= 383586.5\\ngini = 0.408\\nsamples = 7\\nvalue = [5, 2]'),\n",
       " Text(267.84000000000003, 76.10399999999998, 'gini = 0.0\\nsamples = 5\\nvalue = [5, 0]'),\n",
       " Text(286.9714285714286, 76.10399999999998, 'gini = 0.0\\nsamples = 2\\nvalue = [0, 2]'),\n",
       " Text(296.53714285714284, 97.848, 'gini = 0.0\\nsamples = 3\\nvalue = [0, 3]'),\n",
       " Text(306.10285714285715, 163.07999999999998, 'X[8] <= 33.0\\ngini = 0.32\\nsamples = 15\\nvalue = [3, 12]'),\n",
       " Text(296.53714285714284, 141.336, 'gini = 0.0\\nsamples = 11\\nvalue = [0, 11]'),\n",
       " Text(315.66857142857145, 141.336, 'X[1] <= 62489.5\\ngini = 0.375\\nsamples = 4\\nvalue = [3, 1]'),\n",
       " Text(306.10285714285715, 119.592, 'gini = 0.0\\nsamples = 3\\nvalue = [3, 0]'),\n",
       " Text(325.2342857142857, 119.592, 'gini = 0.0\\nsamples = 1\\nvalue = [0, 1]'),\n",
       " Text(246.0182142857143, 184.824, 'gini = 0.0\\nsamples = 28\\nvalue = [0, 28]')]"
      ]
     },
     "execution_count": 113,
     "metadata": {},
     "output_type": "execute_result"
    },
    {
     "data": {
      "image/png": "[encoded data removed]",
      "text/plain": [
       "<Figure size 432x288 with 1 Axes>"
      ]
     },
     "metadata": {
      "needs_background": "light"
     },
     "output_type": "display_data"
    }
   ],
   "source": [
    "tree.plot_tree(cart) "
   ]
  },
  {
   "cell_type": "code",
   "execution_count": 114,
   "metadata": {},
   "outputs": [
    {
     "data": {
      "image/png": "[encoded data removed]",
      "text/plain": [
       "<Figure size 1200x1200 with 1 Axes>"
      ]
     },
     "metadata": {
      "needs_background": "light"
     },
     "output_type": "display_data"
    }
   ],
   "source": [
    "fn=df.columns\n",
    "cn=['0', '1']\n",
    "fig, axes = plt.subplots(nrows = 1,ncols = 1,figsize = (4,4), dpi=300)\n",
    "tree.plot_tree(cart,\n",
    "               feature_names = fn, \n",
    "               class_names=cn,\n",
    "               filled = True);\n",
    "fig.savefig('imagename.png')"
   ]
  },
  {
   "cell_type": "code",
   "execution_count": 117,
   "metadata": {},
   "outputs": [
    {
     "name": "stdout",
     "output_type": "stream",
     "text": [
      "Collecting graphviz\n",
      "  Downloading graphviz-0.14.1-py2.py3-none-any.whl (18 kB)\n",
      "Installing collected packages: graphviz\n",
      "Successfully installed graphviz-0.14.1\n"
     ]
    }
   ],
   "source": [
    "!pip install graphviz"
   ]
  },
  {
   "cell_type": "code",
   "execution_count": 119,
   "metadata": {},
   "outputs": [],
   "source": [
    "import graphviz "
   ]
  },
  {
   "cell_type": "code",
   "execution_count": 122,
   "metadata": {},
   "outputs": [
    {
     "ename": "ValueError",
     "evalue": "Length of feature_names, 19 does not match number of features, 18",
     "output_type": "error",
     "traceback": [
      "\u001b[1;31m---------------------------------------------------------------------------\u001b[0m",
      "\u001b[1;31mValueError\u001b[0m                                Traceback (most recent call last)",
      "\u001b[1;32m<ipython-input-122-a5e78f8096fd>\u001b[0m in \u001b[0;36m<module>\u001b[1;34m\u001b[0m\n\u001b[0;32m      5\u001b[0m                      \u001b[0mfeature_names\u001b[0m \u001b[1;33m=\u001b[0m \u001b[0mfn\u001b[0m\u001b[1;33m,\u001b[0m\u001b[1;33m\u001b[0m\u001b[1;33m\u001b[0m\u001b[0m\n\u001b[0;32m      6\u001b[0m                      \u001b[0mclass_names\u001b[0m\u001b[1;33m=\u001b[0m\u001b[0mcn\u001b[0m\u001b[1;33m,\u001b[0m\u001b[1;33m\u001b[0m\u001b[1;33m\u001b[0m\u001b[0m\n\u001b[1;32m----> 7\u001b[1;33m                      filled = True)\n\u001b[0m",
      "\u001b[1;32m~\\anaconda3\\lib\\site-packages\\sklearn\\tree\\_export.py\u001b[0m in \u001b[0;36mexport_graphviz\u001b[1;34m(decision_tree, out_file, max_depth, feature_names, class_names, label, filled, leaves_parallel, impurity, node_ids, proportion, rotate, rounded, special_characters, precision)\u001b[0m\n\u001b[0;32m    762\u001b[0m             \u001b[0mrounded\u001b[0m\u001b[1;33m=\u001b[0m\u001b[0mrounded\u001b[0m\u001b[1;33m,\u001b[0m \u001b[0mspecial_characters\u001b[0m\u001b[1;33m=\u001b[0m\u001b[0mspecial_characters\u001b[0m\u001b[1;33m,\u001b[0m\u001b[1;33m\u001b[0m\u001b[1;33m\u001b[0m\u001b[0m\n\u001b[0;32m    763\u001b[0m             precision=precision)\n\u001b[1;32m--> 764\u001b[1;33m         \u001b[0mexporter\u001b[0m\u001b[1;33m.\u001b[0m\u001b[0mexport\u001b[0m\u001b[1;33m(\u001b[0m\u001b[0mdecision_tree\u001b[0m\u001b[1;33m)\u001b[0m\u001b[1;33m\u001b[0m\u001b[1;33m\u001b[0m\u001b[0m\n\u001b[0m\u001b[0;32m    765\u001b[0m \u001b[1;33m\u001b[0m\u001b[0m\n\u001b[0;32m    766\u001b[0m         \u001b[1;32mif\u001b[0m \u001b[0mreturn_string\u001b[0m\u001b[1;33m:\u001b[0m\u001b[1;33m\u001b[0m\u001b[1;33m\u001b[0m\u001b[0m\n",
      "\u001b[1;32m~\\anaconda3\\lib\\site-packages\\sklearn\\tree\\_export.py\u001b[0m in \u001b[0;36mexport\u001b[1;34m(self, decision_tree)\u001b[0m\n\u001b[0;32m    397\u001b[0m                                  \u001b[1;34m\"does not match number of features, %d\"\u001b[0m\u001b[1;33m\u001b[0m\u001b[1;33m\u001b[0m\u001b[0m\n\u001b[0;32m    398\u001b[0m                                  % (len(self.feature_names),\n\u001b[1;32m--> 399\u001b[1;33m                                     decision_tree.n_features_))\n\u001b[0m\u001b[0;32m    400\u001b[0m         \u001b[1;31m# each part writes to out_file\u001b[0m\u001b[1;33m\u001b[0m\u001b[1;33m\u001b[0m\u001b[1;33m\u001b[0m\u001b[0m\n\u001b[0;32m    401\u001b[0m         \u001b[0mself\u001b[0m\u001b[1;33m.\u001b[0m\u001b[0mhead\u001b[0m\u001b[1;33m(\u001b[0m\u001b[1;33m)\u001b[0m\u001b[1;33m\u001b[0m\u001b[1;33m\u001b[0m\u001b[0m\n",
      "\u001b[1;31mValueError\u001b[0m: Length of feature_names, 19 does not match number of features, 18"
     ]
    }
   ],
   "source": [
    "fn=df.columns\n",
    "cn=['0', '1']\n",
    "tree.export_graphviz(cart,\n",
    "                     out_file=\"tree.dot\",\n",
    "                     feature_names = fn, \n",
    "                     class_names=cn,\n",
    "                     filled = True)"
   ]
  },
  {
   "cell_type": "code",
   "execution_count": 87,
   "metadata": {},
   "outputs": [
    {
     "data": {
      "text/plain": [
       "0.9488448844884488"
      ]
     },
     "execution_count": 87,
     "metadata": {},
     "output_type": "execute_result"
    }
   ],
   "source": [
    "y_pred = cart_tuned.predict(X_test)\n",
    "accuracy_score(y_test, y_pred)"
   ]
  },
  {
   "cell_type": "code",
   "execution_count": null,
   "metadata": {},
   "outputs": [],
   "source": []
  }
 ],
 "metadata": {
  "kernelspec": {
   "display_name": "Python 3",
   "language": "python",
   "name": "python3"
  },
  "language_info": {
   "codemirror_mode": {
    "name": "ipython",
    "version": 3
   },
   "file_extension": ".py",
   "mimetype": "text/x-python",
   "name": "python",
   "nbconvert_exporter": "python",
   "pygments_lexer": "ipython3",
   "version": "3.7.6"
  }
 },
 "nbformat": 4,
 "nbformat_minor": 4
}

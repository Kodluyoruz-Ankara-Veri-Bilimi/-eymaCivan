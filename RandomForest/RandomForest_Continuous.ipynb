{
 "cells": [
  {
   "cell_type": "code",
   "execution_count": 1,
   "metadata": {},
   "outputs": [],
   "source": [
    "import pandas as pd \n",
    "import numpy as np \n",
    "import matplotlib.pyplot as plt \n",
    "import seaborn as sns \n",
    "import statsmodels.api as sm \n",
    "import statsmodels.formula.api as smf \n",
    "from sklearn.preprocessing import scale, MinMaxScaler\n",
    "from sklearn.model_selection import train_test_split, GridSearchCV, cross_val_score\n",
    "from sklearn.metrics import confusion_matrix, precision_score, recall_score, accuracy_score, classification_report\n",
    "from sklearn.metrics import roc_auc_score, roc_curve, mean_squared_error\n",
    "from sklearn import tree \n",
    "from sklearn.tree import DecisionTreeClassifier\n",
    "from sklearn.tree import DecisionTreeRegressor\n",
    "from sklearn.ensemble import RandomForestClassifier\n",
    "from sklearn.ensemble import RandomForestRegressor\n",
    "from sklearn.neighbors import KNeighborsClassifier\n",
    "from sklearn.discriminant_analysis import LinearDiscriminantAnalysis\n",
    "from sklearn.linear_model import LogisticRegression\n",
    "from sklearn.linear_model import LinearRegression\n",
    "from sklearn.svm import SVC\n",
    "from sklearn.naive_bayes import GaussianNB\n",
    "from sklearn import tree\n",
    "from sklearn.ensemble import RandomForestClassifier\n",
    "from sklearn.ensemble import GradientBoostingClassifier"
   ]
  },
  {
   "cell_type": "code",
   "execution_count": 2,
   "metadata": {},
   "outputs": [],
   "source": [
    "data = pd.read_excel (\"HW_Data_Set.xlsx\")\n",
    "df = data.copy()"
   ]
  },
  {
   "cell_type": "code",
   "execution_count": 3,
   "metadata": {},
   "outputs": [
    {
     "data": {
      "text/html": [
       "<div>\n",
       "<style scoped>\n",
       "    .dataframe tbody tr th:only-of-type {\n",
       "        vertical-align: middle;\n",
       "    }\n",
       "\n",
       "    .dataframe tbody tr th {\n",
       "        vertical-align: top;\n",
       "    }\n",
       "\n",
       "    .dataframe thead th {\n",
       "        text-align: right;\n",
       "    }\n",
       "</style>\n",
       "<table border=\"1\" class=\"dataframe\">\n",
       "  <thead>\n",
       "    <tr style=\"text-align: right;\">\n",
       "      <th></th>\n",
       "      <th>ind_5</th>\n",
       "      <th>ind_6</th>\n",
       "      <th>ind_8</th>\n",
       "      <th>ind_9</th>\n",
       "      <th>ind_10</th>\n",
       "      <th>ind_12</th>\n",
       "      <th>ind_13</th>\n",
       "      <th>ind_14</th>\n",
       "      <th>ind_15</th>\n",
       "      <th>ind_16</th>\n",
       "      <th>...</th>\n",
       "      <th>ind_416</th>\n",
       "      <th>ind_418</th>\n",
       "      <th>ind_420</th>\n",
       "      <th>ind_422</th>\n",
       "      <th>ind_424</th>\n",
       "      <th>ind_426</th>\n",
       "      <th>ind_428</th>\n",
       "      <th>20_target</th>\n",
       "      <th>50_target</th>\n",
       "      <th>90_target</th>\n",
       "    </tr>\n",
       "  </thead>\n",
       "  <tbody>\n",
       "    <tr>\n",
       "      <th>0</th>\n",
       "      <td>19</td>\n",
       "      <td>17</td>\n",
       "      <td>100.0</td>\n",
       "      <td>85.714286</td>\n",
       "      <td>14.285714</td>\n",
       "      <td>72.363515</td>\n",
       "      <td>60.808814</td>\n",
       "      <td>23.80</td>\n",
       "      <td>17.62</td>\n",
       "      <td>11.73</td>\n",
       "      <td>...</td>\n",
       "      <td>-49.6</td>\n",
       "      <td>-54</td>\n",
       "      <td>-152</td>\n",
       "      <td>-353</td>\n",
       "      <td>1.0</td>\n",
       "      <td>0.498547</td>\n",
       "      <td>0.701906</td>\n",
       "      <td>15.135802</td>\n",
       "      <td>35.625252</td>\n",
       "      <td>36.997753</td>\n",
       "    </tr>\n",
       "    <tr>\n",
       "      <th>1</th>\n",
       "      <td>24</td>\n",
       "      <td>19</td>\n",
       "      <td>100.0</td>\n",
       "      <td>78.571429</td>\n",
       "      <td>21.428571</td>\n",
       "      <td>74.275883</td>\n",
       "      <td>64.366798</td>\n",
       "      <td>11.45</td>\n",
       "      <td>18.16</td>\n",
       "      <td>12.22</td>\n",
       "      <td>...</td>\n",
       "      <td>-55.6</td>\n",
       "      <td>-60</td>\n",
       "      <td>-158</td>\n",
       "      <td>-359</td>\n",
       "      <td>1.0</td>\n",
       "      <td>0.537088</td>\n",
       "      <td>0.690833</td>\n",
       "      <td>15.143348</td>\n",
       "      <td>35.643013</td>\n",
       "      <td>37.016198</td>\n",
       "    </tr>\n",
       "    <tr>\n",
       "      <th>2</th>\n",
       "      <td>30</td>\n",
       "      <td>24</td>\n",
       "      <td>100.0</td>\n",
       "      <td>71.428571</td>\n",
       "      <td>28.571429</td>\n",
       "      <td>75.140402</td>\n",
       "      <td>65.915803</td>\n",
       "      <td>8.75</td>\n",
       "      <td>17.86</td>\n",
       "      <td>12.28</td>\n",
       "      <td>...</td>\n",
       "      <td>-58.4</td>\n",
       "      <td>-60</td>\n",
       "      <td>-160</td>\n",
       "      <td>-362</td>\n",
       "      <td>1.0</td>\n",
       "      <td>0.615169</td>\n",
       "      <td>0.693040</td>\n",
       "      <td>15.146870</td>\n",
       "      <td>35.651301</td>\n",
       "      <td>-37.024805</td>\n",
       "    </tr>\n",
       "    <tr>\n",
       "      <th>3</th>\n",
       "      <td>37</td>\n",
       "      <td>30</td>\n",
       "      <td>100.0</td>\n",
       "      <td>64.285714</td>\n",
       "      <td>35.714286</td>\n",
       "      <td>76.677846</td>\n",
       "      <td>68.584234</td>\n",
       "      <td>7.80</td>\n",
       "      <td>14.76</td>\n",
       "      <td>12.61</td>\n",
       "      <td>...</td>\n",
       "      <td>-61.8</td>\n",
       "      <td>-65</td>\n",
       "      <td>-166</td>\n",
       "      <td>-367</td>\n",
       "      <td>1.0</td>\n",
       "      <td>0.661517</td>\n",
       "      <td>0.673418</td>\n",
       "      <td>15.153283</td>\n",
       "      <td>0.000000</td>\n",
       "      <td>-37.040483</td>\n",
       "    </tr>\n",
       "    <tr>\n",
       "      <th>4</th>\n",
       "      <td>41</td>\n",
       "      <td>37</td>\n",
       "      <td>100.0</td>\n",
       "      <td>57.142857</td>\n",
       "      <td>42.857143</td>\n",
       "      <td>81.603007</td>\n",
       "      <td>76.455495</td>\n",
       "      <td>14.90</td>\n",
       "      <td>11.92</td>\n",
       "      <td>14.25</td>\n",
       "      <td>...</td>\n",
       "      <td>-79.8</td>\n",
       "      <td>-86</td>\n",
       "      <td>-186</td>\n",
       "      <td>-388</td>\n",
       "      <td>1.0</td>\n",
       "      <td>0.747204</td>\n",
       "      <td>0.700522</td>\n",
       "      <td>-15.179065</td>\n",
       "      <td>-35.727079</td>\n",
       "      <td>-37.103503</td>\n",
       "    </tr>\n",
       "  </tbody>\n",
       "</table>\n",
       "<p>5 rows × 136 columns</p>\n",
       "</div>"
      ],
      "text/plain": [
       "   ind_5  ind_6  ind_8      ind_9     ind_10     ind_12     ind_13  ind_14  \\\n",
       "0     19     17  100.0  85.714286  14.285714  72.363515  60.808814   23.80   \n",
       "1     24     19  100.0  78.571429  21.428571  74.275883  64.366798   11.45   \n",
       "2     30     24  100.0  71.428571  28.571429  75.140402  65.915803    8.75   \n",
       "3     37     30  100.0  64.285714  35.714286  76.677846  68.584234    7.80   \n",
       "4     41     37  100.0  57.142857  42.857143  81.603007  76.455495   14.90   \n",
       "\n",
       "   ind_15  ind_16  ...  ind_416  ind_418  ind_420  ind_422  ind_424   ind_426  \\\n",
       "0   17.62   11.73  ...    -49.6      -54     -152     -353      1.0  0.498547   \n",
       "1   18.16   12.22  ...    -55.6      -60     -158     -359      1.0  0.537088   \n",
       "2   17.86   12.28  ...    -58.4      -60     -160     -362      1.0  0.615169   \n",
       "3   14.76   12.61  ...    -61.8      -65     -166     -367      1.0  0.661517   \n",
       "4   11.92   14.25  ...    -79.8      -86     -186     -388      1.0  0.747204   \n",
       "\n",
       "    ind_428  20_target  50_target  90_target  \n",
       "0  0.701906  15.135802  35.625252  36.997753  \n",
       "1  0.690833  15.143348  35.643013  37.016198  \n",
       "2  0.693040  15.146870  35.651301 -37.024805  \n",
       "3  0.673418  15.153283   0.000000 -37.040483  \n",
       "4  0.700522 -15.179065 -35.727079 -37.103503  \n",
       "\n",
       "[5 rows x 136 columns]"
      ]
     },
     "execution_count": 3,
     "metadata": {},
     "output_type": "execute_result"
    }
   ],
   "source": [
    "df.head()"
   ]
  },
  {
   "cell_type": "code",
   "execution_count": 4,
   "metadata": {},
   "outputs": [
    {
     "name": "stdout",
     "output_type": "stream",
     "text": [
      "<class 'pandas.core.frame.DataFrame'>\n",
      "RangeIndex: 6167 entries, 0 to 6166\n",
      "Columns: 136 entries, ind_5 to 90_target\n",
      "dtypes: float64(88), int64(45), object(3)\n",
      "memory usage: 6.4+ MB\n"
     ]
    }
   ],
   "source": [
    "df.info()"
   ]
  },
  {
   "cell_type": "code",
   "execution_count": 5,
   "metadata": {},
   "outputs": [
    {
     "data": {
      "text/html": [
       "<div>\n",
       "<style scoped>\n",
       "    .dataframe tbody tr th:only-of-type {\n",
       "        vertical-align: middle;\n",
       "    }\n",
       "\n",
       "    .dataframe tbody tr th {\n",
       "        vertical-align: top;\n",
       "    }\n",
       "\n",
       "    .dataframe thead th {\n",
       "        text-align: right;\n",
       "    }\n",
       "</style>\n",
       "<table border=\"1\" class=\"dataframe\">\n",
       "  <thead>\n",
       "    <tr style=\"text-align: right;\">\n",
       "      <th></th>\n",
       "      <th>count</th>\n",
       "      <th>mean</th>\n",
       "      <th>std</th>\n",
       "      <th>min</th>\n",
       "      <th>25%</th>\n",
       "      <th>50%</th>\n",
       "      <th>75%</th>\n",
       "      <th>max</th>\n",
       "    </tr>\n",
       "  </thead>\n",
       "  <tbody>\n",
       "    <tr>\n",
       "      <th>ind_5</th>\n",
       "      <td>6167.0</td>\n",
       "      <td>-0.803146</td>\n",
       "      <td>23.624403</td>\n",
       "      <td>-131.000000</td>\n",
       "      <td>-14.000000</td>\n",
       "      <td>0.000000</td>\n",
       "      <td>13.000000</td>\n",
       "      <td>76.000000</td>\n",
       "    </tr>\n",
       "    <tr>\n",
       "      <th>ind_6</th>\n",
       "      <td>6167.0</td>\n",
       "      <td>-0.803470</td>\n",
       "      <td>23.624144</td>\n",
       "      <td>-131.000000</td>\n",
       "      <td>-14.000000</td>\n",
       "      <td>0.000000</td>\n",
       "      <td>13.000000</td>\n",
       "      <td>76.000000</td>\n",
       "    </tr>\n",
       "    <tr>\n",
       "      <th>ind_8</th>\n",
       "      <td>6167.0</td>\n",
       "      <td>48.388890</td>\n",
       "      <td>36.388526</td>\n",
       "      <td>0.000000</td>\n",
       "      <td>14.285714</td>\n",
       "      <td>50.000000</td>\n",
       "      <td>85.714286</td>\n",
       "      <td>100.000000</td>\n",
       "    </tr>\n",
       "    <tr>\n",
       "      <th>ind_9</th>\n",
       "      <td>6167.0</td>\n",
       "      <td>48.289282</td>\n",
       "      <td>36.478009</td>\n",
       "      <td>0.000000</td>\n",
       "      <td>14.285714</td>\n",
       "      <td>50.000000</td>\n",
       "      <td>85.714286</td>\n",
       "      <td>100.000000</td>\n",
       "    </tr>\n",
       "    <tr>\n",
       "      <th>ind_10</th>\n",
       "      <td>6167.0</td>\n",
       "      <td>0.099609</td>\n",
       "      <td>60.414625</td>\n",
       "      <td>-100.000000</td>\n",
       "      <td>-50.000000</td>\n",
       "      <td>0.000000</td>\n",
       "      <td>57.142857</td>\n",
       "      <td>100.000000</td>\n",
       "    </tr>\n",
       "    <tr>\n",
       "      <th>...</th>\n",
       "      <td>...</td>\n",
       "      <td>...</td>\n",
       "      <td>...</td>\n",
       "      <td>...</td>\n",
       "      <td>...</td>\n",
       "      <td>...</td>\n",
       "      <td>...</td>\n",
       "      <td>...</td>\n",
       "    </tr>\n",
       "    <tr>\n",
       "      <th>ind_426</th>\n",
       "      <td>6167.0</td>\n",
       "      <td>0.498188</td>\n",
       "      <td>0.228547</td>\n",
       "      <td>0.000000</td>\n",
       "      <td>0.323783</td>\n",
       "      <td>0.495192</td>\n",
       "      <td>0.675730</td>\n",
       "      <td>1.000000</td>\n",
       "    </tr>\n",
       "    <tr>\n",
       "      <th>ind_428</th>\n",
       "      <td>6167.0</td>\n",
       "      <td>0.490174</td>\n",
       "      <td>0.150483</td>\n",
       "      <td>0.083530</td>\n",
       "      <td>0.379894</td>\n",
       "      <td>0.487078</td>\n",
       "      <td>0.601508</td>\n",
       "      <td>0.868534</td>\n",
       "    </tr>\n",
       "    <tr>\n",
       "      <th>20_target</th>\n",
       "      <td>6167.0</td>\n",
       "      <td>-0.057102</td>\n",
       "      <td>14.834497</td>\n",
       "      <td>-15.780588</td>\n",
       "      <td>-15.350354</td>\n",
       "      <td>0.000000</td>\n",
       "      <td>15.385945</td>\n",
       "      <td>15.768767</td>\n",
       "    </tr>\n",
       "    <tr>\n",
       "      <th>50_target</th>\n",
       "      <td>6167.0</td>\n",
       "      <td>-2.906358</td>\n",
       "      <td>34.559778</td>\n",
       "      <td>-37.142889</td>\n",
       "      <td>-36.208094</td>\n",
       "      <td>-34.267756</td>\n",
       "      <td>35.879524</td>\n",
       "      <td>37.038694</td>\n",
       "    </tr>\n",
       "    <tr>\n",
       "      <th>90_target</th>\n",
       "      <td>6167.0</td>\n",
       "      <td>-3.315072</td>\n",
       "      <td>36.841541</td>\n",
       "      <td>-38.573858</td>\n",
       "      <td>-37.695273</td>\n",
       "      <td>-35.788391</td>\n",
       "      <td>37.521892</td>\n",
       "      <td>38.465649</td>\n",
       "    </tr>\n",
       "  </tbody>\n",
       "</table>\n",
       "<p>133 rows × 8 columns</p>\n",
       "</div>"
      ],
      "text/plain": [
       "            count       mean        std         min        25%        50%  \\\n",
       "ind_5      6167.0  -0.803146  23.624403 -131.000000 -14.000000   0.000000   \n",
       "ind_6      6167.0  -0.803470  23.624144 -131.000000 -14.000000   0.000000   \n",
       "ind_8      6167.0  48.388890  36.388526    0.000000  14.285714  50.000000   \n",
       "ind_9      6167.0  48.289282  36.478009    0.000000  14.285714  50.000000   \n",
       "ind_10     6167.0   0.099609  60.414625 -100.000000 -50.000000   0.000000   \n",
       "...           ...        ...        ...         ...        ...        ...   \n",
       "ind_426    6167.0   0.498188   0.228547    0.000000   0.323783   0.495192   \n",
       "ind_428    6167.0   0.490174   0.150483    0.083530   0.379894   0.487078   \n",
       "20_target  6167.0  -0.057102  14.834497  -15.780588 -15.350354   0.000000   \n",
       "50_target  6167.0  -2.906358  34.559778  -37.142889 -36.208094 -34.267756   \n",
       "90_target  6167.0  -3.315072  36.841541  -38.573858 -37.695273 -35.788391   \n",
       "\n",
       "                 75%         max  \n",
       "ind_5      13.000000   76.000000  \n",
       "ind_6      13.000000   76.000000  \n",
       "ind_8      85.714286  100.000000  \n",
       "ind_9      85.714286  100.000000  \n",
       "ind_10     57.142857  100.000000  \n",
       "...              ...         ...  \n",
       "ind_426     0.675730    1.000000  \n",
       "ind_428     0.601508    0.868534  \n",
       "20_target  15.385945   15.768767  \n",
       "50_target  35.879524   37.038694  \n",
       "90_target  37.521892   38.465649  \n",
       "\n",
       "[133 rows x 8 columns]"
      ]
     },
     "execution_count": 5,
     "metadata": {},
     "output_type": "execute_result"
    }
   ],
   "source": [
    "df.describe().T"
   ]
  },
  {
   "cell_type": "code",
   "execution_count": 6,
   "metadata": {},
   "outputs": [
    {
     "data": {
      "text/plain": [
       "(6167, 136)"
      ]
     },
     "execution_count": 6,
     "metadata": {},
     "output_type": "execute_result"
    }
   ],
   "source": [
    "df.shape"
   ]
  },
  {
   "cell_type": "code",
   "execution_count": 7,
   "metadata": {},
   "outputs": [
    {
     "data": {
      "text/plain": [
       "False"
      ]
     },
     "execution_count": 7,
     "metadata": {},
     "output_type": "execute_result"
    }
   ],
   "source": [
    "df.isnull().values.any()"
   ]
  },
  {
   "cell_type": "code",
   "execution_count": 8,
   "metadata": {},
   "outputs": [
    {
     "data": {
      "text/plain": [
       "['ind_109', 'ind_420', 'ind_422']"
      ]
     },
     "execution_count": 8,
     "metadata": {},
     "output_type": "execute_result"
    }
   ],
   "source": [
    "num_deg = []\n",
    "kat_deg = []\n",
    "\n",
    "for col in df:\n",
    "    if(df.dtypes[col] == \"object\"):\n",
    "        kat_deg.append(col)\n",
    "    else:\n",
    "        num_deg.append(col)\n",
    "\n",
    "kat_deg"
   ]
  },
  {
   "cell_type": "code",
   "execution_count": 9,
   "metadata": {},
   "outputs": [
    {
     "name": "stdout",
     "output_type": "stream",
     "text": [
      "ind_109 :  2\n",
      "ind_420 :  582\n",
      "ind_422 :  573\n"
     ]
    }
   ],
   "source": [
    "for i in kat_deg:\n",
    "    print(i,\": \",df[i].value_counts().count())\n",
    "\n",
    "# Kategorik verilerde kaç farklı kategori olduğuna baktım;"
   ]
  },
  {
   "cell_type": "code",
   "execution_count": 10,
   "metadata": {},
   "outputs": [
    {
     "data": {
      "text/html": [
       "<div>\n",
       "<style scoped>\n",
       "    .dataframe tbody tr th:only-of-type {\n",
       "        vertical-align: middle;\n",
       "    }\n",
       "\n",
       "    .dataframe tbody tr th {\n",
       "        vertical-align: top;\n",
       "    }\n",
       "\n",
       "    .dataframe thead th {\n",
       "        text-align: right;\n",
       "    }\n",
       "</style>\n",
       "<table border=\"1\" class=\"dataframe\">\n",
       "  <thead>\n",
       "    <tr style=\"text-align: right;\">\n",
       "      <th></th>\n",
       "      <th>ind_109_GREEN</th>\n",
       "      <th>ind_109_RED</th>\n",
       "    </tr>\n",
       "  </thead>\n",
       "  <tbody>\n",
       "    <tr>\n",
       "      <th>0</th>\n",
       "      <td>1</td>\n",
       "      <td>0</td>\n",
       "    </tr>\n",
       "    <tr>\n",
       "      <th>1</th>\n",
       "      <td>1</td>\n",
       "      <td>0</td>\n",
       "    </tr>\n",
       "    <tr>\n",
       "      <th>2</th>\n",
       "      <td>1</td>\n",
       "      <td>0</td>\n",
       "    </tr>\n",
       "    <tr>\n",
       "      <th>3</th>\n",
       "      <td>1</td>\n",
       "      <td>0</td>\n",
       "    </tr>\n",
       "    <tr>\n",
       "      <th>4</th>\n",
       "      <td>1</td>\n",
       "      <td>0</td>\n",
       "    </tr>\n",
       "  </tbody>\n",
       "</table>\n",
       "</div>"
      ],
      "text/plain": [
       "   ind_109_GREEN  ind_109_RED\n",
       "0              1            0\n",
       "1              1            0\n",
       "2              1            0\n",
       "3              1            0\n",
       "4              1            0"
      ]
     },
     "execution_count": 10,
     "metadata": {},
     "output_type": "execute_result"
    }
   ],
   "source": [
    "dms = pd.get_dummies(df[['ind_109']])\n",
    "dms.head()"
   ]
  },
  {
   "cell_type": "code",
   "execution_count": 11,
   "metadata": {},
   "outputs": [],
   "source": [
    "df = df.drop([\"ind_109\", \"50_target\", \"90_target\"], axis = 1)"
   ]
  },
  {
   "cell_type": "code",
   "execution_count": 12,
   "metadata": {},
   "outputs": [],
   "source": [
    "df = pd.concat([df, dms[[\"ind_109_GREEN\"]]], axis = 1)"
   ]
  },
  {
   "cell_type": "code",
   "execution_count": 13,
   "metadata": {},
   "outputs": [],
   "source": [
    "df[\"ind_420\"] = df[\"ind_420\"].replace(\"?\", np.nan)\n",
    "df[\"ind_422\"] = df[\"ind_422\"].replace(\"?\", np.nan)"
   ]
  },
  {
   "cell_type": "code",
   "execution_count": 14,
   "metadata": {},
   "outputs": [],
   "source": [
    "df = df.dropna(axis=0, subset=[\"ind_420\",\"ind_422\"])"
   ]
  },
  {
   "cell_type": "code",
   "execution_count": 15,
   "metadata": {},
   "outputs": [
    {
     "data": {
      "text/plain": [
       "0"
      ]
     },
     "execution_count": 15,
     "metadata": {},
     "output_type": "execute_result"
    }
   ],
   "source": [
    "df.isnull().sum().sum()"
   ]
  },
  {
   "cell_type": "code",
   "execution_count": 16,
   "metadata": {},
   "outputs": [],
   "source": [
    "y = df[\"20_target\"]"
   ]
  },
  {
   "cell_type": "code",
   "execution_count": 17,
   "metadata": {},
   "outputs": [],
   "source": [
    "X = df.drop([\"20_target\"], axis=1)"
   ]
  },
  {
   "cell_type": "code",
   "execution_count": 18,
   "metadata": {},
   "outputs": [],
   "source": [
    "X_train, X_test, y_train, y_test = train_test_split(X, y, \n",
    "                                                    test_size=0.25, \n",
    "                                                    random_state=42)"
   ]
  },
  {
   "cell_type": "code",
   "execution_count": 19,
   "metadata": {},
   "outputs": [],
   "source": [
    "from sklearn.ensemble import RandomForestRegressor"
   ]
  },
  {
   "cell_type": "code",
   "execution_count": 20,
   "metadata": {},
   "outputs": [],
   "source": [
    "rf_model = RandomForestRegressor(random_state = 42)"
   ]
  },
  {
   "cell_type": "code",
   "execution_count": 21,
   "metadata": {},
   "outputs": [
    {
     "data": {
      "text/plain": [
       "RandomForestRegressor(bootstrap=True, ccp_alpha=0.0, criterion='mse',\n",
       "                      max_depth=None, max_features='auto', max_leaf_nodes=None,\n",
       "                      max_samples=None, min_impurity_decrease=0.0,\n",
       "                      min_impurity_split=None, min_samples_leaf=1,\n",
       "                      min_samples_split=2, min_weight_fraction_leaf=0.0,\n",
       "                      n_estimators=100, n_jobs=None, oob_score=False,\n",
       "                      random_state=42, verbose=0, warm_start=False)"
      ]
     },
     "execution_count": 21,
     "metadata": {},
     "output_type": "execute_result"
    }
   ],
   "source": [
    "rf_model.fit(X_train, y_train)"
   ]
  },
  {
   "cell_type": "code",
   "execution_count": null,
   "metadata": {},
   "outputs": [],
   "source": []
  },
  {
   "cell_type": "code",
   "execution_count": 22,
   "metadata": {},
   "outputs": [
    {
     "data": {
      "text/plain": [
       "array([ -4.3134703 , -12.45183511, -10.90160592,  12.60746861,\n",
       "        12.22716022])"
      ]
     },
     "execution_count": 22,
     "metadata": {},
     "output_type": "execute_result"
    }
   ],
   "source": [
    "rf_model.predict(X_test)[0:5]"
   ]
  },
  {
   "cell_type": "code",
   "execution_count": 23,
   "metadata": {},
   "outputs": [],
   "source": [
    "y_pred = rf_model.predict(X_test)"
   ]
  },
  {
   "cell_type": "code",
   "execution_count": 24,
   "metadata": {},
   "outputs": [
    {
     "data": {
      "text/plain": [
       "10.221710387994941"
      ]
     },
     "execution_count": 24,
     "metadata": {},
     "output_type": "execute_result"
    }
   ],
   "source": [
    "np.sqrt(mean_squared_error(y_test, y_pred))"
   ]
  },
  {
   "cell_type": "code",
   "execution_count": null,
   "metadata": {},
   "outputs": [],
   "source": []
  },
  {
   "cell_type": "code",
   "execution_count": 25,
   "metadata": {},
   "outputs": [],
   "source": [
    "rf_params = {'max_depth': list(range(1,10)),\n",
    "            'max_features': [3,5,10,15],\n",
    "            'n_estimators' : [100, 200, 500, 1000, 2000]}"
   ]
  },
  {
   "cell_type": "code",
   "execution_count": 26,
   "metadata": {},
   "outputs": [],
   "source": [
    "rf_model = RandomForestRegressor(random_state = 42)"
   ]
  },
  {
   "cell_type": "code",
   "execution_count": 27,
   "metadata": {},
   "outputs": [],
   "source": [
    "rf_cv_model = GridSearchCV(rf_model, \n",
    "                           rf_params, \n",
    "                           cv = 10, \n",
    "                            n_jobs = -1)"
   ]
  },
  {
   "cell_type": "code",
   "execution_count": 28,
   "metadata": {},
   "outputs": [
    {
     "data": {
      "text/plain": [
       "GridSearchCV(cv=10, error_score=nan,\n",
       "             estimator=RandomForestRegressor(bootstrap=True, ccp_alpha=0.0,\n",
       "                                             criterion='mse', max_depth=None,\n",
       "                                             max_features='auto',\n",
       "                                             max_leaf_nodes=None,\n",
       "                                             max_samples=None,\n",
       "                                             min_impurity_decrease=0.0,\n",
       "                                             min_impurity_split=None,\n",
       "                                             min_samples_leaf=1,\n",
       "                                             min_samples_split=2,\n",
       "                                             min_weight_fraction_leaf=0.0,\n",
       "                                             n_estimators=100, n_jobs=None,\n",
       "                                             oob_score=False, random_state=42,\n",
       "                                             verbose=0, warm_start=False),\n",
       "             iid='deprecated', n_jobs=-1,\n",
       "             param_grid={'max_depth': [1, 2, 3, 4, 5, 6, 7, 8, 9],\n",
       "                         'max_features': [3, 5, 10, 15],\n",
       "                         'n_estimators': [100, 200, 500, 1000, 2000]},\n",
       "             pre_dispatch='2*n_jobs', refit=True, return_train_score=False,\n",
       "             scoring=None, verbose=0)"
      ]
     },
     "execution_count": 28,
     "metadata": {},
     "output_type": "execute_result"
    }
   ],
   "source": [
    "rf_cv_model.fit(X_train, y_train)"
   ]
  },
  {
   "cell_type": "code",
   "execution_count": 29,
   "metadata": {},
   "outputs": [
    {
     "data": {
      "text/plain": [
       "{'max_depth': 9, 'max_features': 15, 'n_estimators': 1000}"
      ]
     },
     "execution_count": 29,
     "metadata": {},
     "output_type": "execute_result"
    }
   ],
   "source": [
    "rf_cv_model.best_params_"
   ]
  },
  {
   "cell_type": "code",
   "execution_count": 30,
   "metadata": {},
   "outputs": [],
   "source": [
    "rf_tuned = RandomForestRegressor(max_depth  = 9, \n",
    "                                 max_features = 15, \n",
    "                                 n_estimators =1000)"
   ]
  },
  {
   "cell_type": "code",
   "execution_count": 31,
   "metadata": {},
   "outputs": [
    {
     "data": {
      "text/plain": [
       "RandomForestRegressor(bootstrap=True, ccp_alpha=0.0, criterion='mse',\n",
       "                      max_depth=9, max_features=15, max_leaf_nodes=None,\n",
       "                      max_samples=None, min_impurity_decrease=0.0,\n",
       "                      min_impurity_split=None, min_samples_leaf=1,\n",
       "                      min_samples_split=2, min_weight_fraction_leaf=0.0,\n",
       "                      n_estimators=1000, n_jobs=None, oob_score=False,\n",
       "                      random_state=None, verbose=0, warm_start=False)"
      ]
     },
     "execution_count": 31,
     "metadata": {},
     "output_type": "execute_result"
    }
   ],
   "source": [
    "rf_tuned.fit(X_train, y_train)"
   ]
  },
  {
   "cell_type": "code",
   "execution_count": 32,
   "metadata": {},
   "outputs": [],
   "source": [
    "y_pred = rf_tuned.predict(X_test)"
   ]
  },
  {
   "cell_type": "code",
   "execution_count": 33,
   "metadata": {},
   "outputs": [
    {
     "data": {
      "text/plain": [
       "12.42236454970167"
      ]
     },
     "execution_count": 33,
     "metadata": {},
     "output_type": "execute_result"
    }
   ],
   "source": [
    "np.sqrt(mean_squared_error(y_test, y_pred))"
   ]
  },
  {
   "cell_type": "code",
   "execution_count": 34,
   "metadata": {},
   "outputs": [],
   "source": [
    "Importance = pd.DataFrame({\"Importance\": rf_tuned.feature_importances_*100},\n",
    "                         index = X_train.columns)"
   ]
  },
  {
   "cell_type": "code",
   "execution_count": 35,
   "metadata": {},
   "outputs": [
    {
     "data": {
      "text/plain": [
       "Text(0.5, 0, 'Değişken Önem Düzeyleri')"
      ]
     },
     "execution_count": 35,
     "metadata": {},
     "output_type": "execute_result"
    },
    {
     "data": {
      "image/png": "[encoded data removed]",
      "text/plain": [
       "<Figure size 432x288 with 1 Axes>"
      ]
     },
     "metadata": {
      "needs_background": "light"
     },
     "output_type": "display_data"
    }
   ],
   "source": [
    "Importance.sort_values(by = \"Importance\", \n",
    "                       axis = 0, \n",
    "                       ascending = True).plot(kind =\"barh\", color = \"r\")\n",
    "\n",
    "plt.xlabel(\"Değişken Önem Düzeyleri\")"
   ]
  },
  {
   "cell_type": "code",
   "execution_count": null,
   "metadata": {},
   "outputs": [],
   "source": []
  }
 ],
 "metadata": {
  "kernelspec": {
   "display_name": "Python 3",
   "language": "python",
   "name": "python3"
  },
  "language_info": {
   "codemirror_mode": {
    "name": "ipython",
    "version": 3
   },
   "file_extension": ".py",
   "mimetype": "text/x-python",
   "name": "python",
   "nbconvert_exporter": "python",
   "pygments_lexer": "ipython3",
   "version": "3.7.6"
  }
 },
 "nbformat": 4,
 "nbformat_minor": 4
}
